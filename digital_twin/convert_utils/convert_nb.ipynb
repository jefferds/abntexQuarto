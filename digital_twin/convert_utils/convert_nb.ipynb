{
 "cells": [
  {
   "cell_type": "code",
   "execution_count": 1,
   "metadata": {},
   "outputs": [],
   "source": [
    "import os\n",
    "import sys\n",
    "\n",
    "module_path = os.path.abspath(os.path.join(\"../\"))\n",
    "if module_path not in sys.path:\n",
    "    sys.path.append(module_path)"
   ]
  },
  {
   "cell_type": "code",
   "execution_count": 15,
   "metadata": {},
   "outputs": [
    {
     "name": "stdout",
     "output_type": "stream",
     "text": [
      "Aq60000__oct_2015_1.parquet\n",
      "Aq45000__oct_2015_1.parquet\n",
      "Aq55000__oct_2015_1.parquet\n",
      "Aq50000__oct_2015_1.parquet\n",
      "Aq40000__oct_2015_1.parquet\n",
      "Aq65000__oct_2015_1.parquet\n",
      "dummy_feb_2025_1.parquet\n",
      "Aq_57500_feb_2025_1.parquet\n",
      "Aq_65000_feb_2025_1.parquet\n",
      "Aq_65000_150mmH2O_27C_feb_2025_1.parquet\n",
      "Aq_50000.parquet_feb_2025_1.parquet\n",
      "Aq_55000_feb_2025_1.parquet\n",
      "Aq_62500_feb_2025_1.parquet\n",
      "Aq_65000_50mmH2O_26C_feb_2025_1.parquet\n",
      "Aq_50000_feb_2025_1.parquet\n",
      "Aq_65000_178mmH2O_29C_feb_2025_1.parquet\n",
      "Aq_60000_feb_2025_1.parquet\n",
      "Aq_65000_100mmH2O_26C_feb_2025_1.parquet\n",
      "Aq60000__oct_2015_3.parquet\n",
      "Aq45000__oct_2015_3.parquet\n",
      "Aq55000__oct_2015_3.parquet\n",
      "Aq50000__oct_2015_3.parquet\n",
      "Aq40000__oct_2015_3.parquet\n",
      "Aq65000__oct_2015_3.parquet\n",
      "Aq65000_oct_2015_2.parquet\n",
      "Aq45000_oct_2015_2.parquet\n",
      "Aq55000_oct_2015_2.parquet\n",
      "Aq50000_oct_2015_2.parquet\n",
      "Aq40000_oct_2015_2.parquet\n",
      "Aq60000_oct_2015_2.parquet\n",
      "Aq70000_oct_2015_2.parquet\n"
     ]
    }
   ],
   "source": [
    "from convert_data import load_sensor_data_to_dataframe, load_sensor_data_to_parquet\n",
    "import os\n",
    "\n",
    "files_path = \"../../digital_twin/minilab_data/raw_text/\"\n",
    "\n",
    "for folder in os.listdir(files_path):\n",
    "    for file in os.listdir(os.path.join(files_path, folder)):\n",
    "        output_file_name = file\n",
    "        output_file_name = (\n",
    "            output_file_name.replace(\".txt\", \"\") + \"_\" + folder + \".parquet\"\n",
    "        )\n",
    "        print(output_file_name)\n"
   ]
  },
  {
   "cell_type": "code",
   "execution_count": 13,
   "metadata": {},
   "outputs": [
    {
     "name": "stdout",
     "output_type": "stream",
     "text": [
      "['convert_nb.ipynb', 'convert_data.py', '__pycache__']\n",
      "['convert_utils', 'minilab_data']\n"
     ]
    }
   ],
   "source": [
    "# show all files in the current directory\n",
    "print(os.listdir())\n",
    "# show all files in the parent directory\n",
    "print(os.listdir(\"../\"))\n"
   ]
  }
 ],
 "metadata": {
  "kernelspec": {
   "display_name": "venv",
   "language": "python",
   "name": "python3"
  },
  "language_info": {
   "codemirror_mode": {
    "name": "ipython",
    "version": 3
   },
   "file_extension": ".py",
   "mimetype": "text/x-python",
   "name": "python",
   "nbconvert_exporter": "python",
   "pygments_lexer": "ipython3",
   "version": "3.13.2"
  }
 },
 "nbformat": 4,
 "nbformat_minor": 2
}
