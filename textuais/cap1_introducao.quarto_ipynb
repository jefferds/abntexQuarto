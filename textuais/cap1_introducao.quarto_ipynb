{
  "cells": [
    {
      "cell_type": "markdown",
      "metadata": {},
      "source": [
        "\\chapter{Introdução}\n",
        "\n",
        "O Quarto permite tecer o conteúdo e o código executável em um documento final. Para saber mais sobre o quarto ver <https://quarto.org>.\n",
        "\n",
        "# Uso de figuras\n",
        "\n",
        "Um exemplo de figura é a @fig-peixe abaixo.\n",
        "\n",
        "::: {#fig-peixe layout-ncol=1}\n",
        "\n",
        "![](figuras/images.jpg){width=300}\n",
        "\n",
        "Fonte: Google imagens\n",
        "\n",
        "Exemplo de figura: um peixe.\n",
        "\n",
        ":::\n",
        "\n",
        "## Tabelas\n",
        "\n",
        "Tabelas são usadas para mostrar dados tabulares. Um exemplo de tabela é a @tbl-1 abaixo.\n",
        "\n",
        "| Nome | Idade | Sexo |\n",
        "|------|-------|------|\n",
        "| João | 20    | M    |\n",
        "| Maria | 25   | F    |\n",
        "\n",
        ": Exemplo de tabela: dados de pessoas {#tbl-1}\n",
        "\n",
        "## Equações\n",
        "\n",
        "Black-Scholes (@eq-black-scholes) é um modelo matemático que busca explicar o comportamento dos derivativos financeiros, mais comumente opções:\n",
        "\n",
        "$$\n",
        "\\frac{\\partial \\mathrm C}{ \\partial \\mathrm t } + \\frac{1}{2}\\sigma^{2} \\mathrm S^{2}\n",
        "\\frac{\\partial^{2} \\mathrm C}{\\partial \\mathrm C^2}\n",
        "  + \\mathrm r \\mathrm S \\frac{\\partial \\mathrm C}{\\partial \\mathrm S}\\ =\n",
        "  \\mathrm r \\mathrm C \n",
        "$$ {#eq-black-scholes}\n",
        "\n",
        "## Código em Julia\n",
        "\n",
        "A seguir um código em Julia:\n",
        "\n",
        "<!-- Aqui precisei fazer uma gabiarra pois não consegui fazer o código ser executado no quarto.org corretamento. Usei o \\vspace{0cm} nesse tempo funcionou. -->\n",
        "\n",
        "\\vspace{0cm}\n",
        "\n",
        "```{#lst-1 .julia lst-cap=\"Customers Query\"}\n",
        "x = 1 + 1\n",
        "```\n",
        "\n",
        "Este foi um exemplos do suporte a figuras, tabelas, equações e código em Julia. Para mais informações sobre o suporte a figuras, tabelas, equações e código (@lst-1) em Julia, consulte <https://quarto.org>.\n",
        "\n",
        "```{#lst-2 .julia lst-cap=\"Exemplo de código em Julia\"}\n",
        "x = 1 + 1\n",
        "```\n",
        "\n",
        "É possível executar código em Julia/Python/R diretamente no Quarto.org. O código é executado e o resultado é incluído no documento final.\n"
      ],
      "id": "f5846d75"
    },
    {
      "cell_type": "code",
      "metadata": {},
      "source": [
        "#| echo: true\n",
        "\n",
        "m = 100 # kg\n",
        "c = 3e8 # m/s\n",
        "E = m * c^2 # J\n",
        "\n",
        "println(\"A energia é: \", E, \" Joules\")"
      ],
      "id": "0dd5fbc8",
      "execution_count": null,
      "outputs": []
    },
    {
      "cell_type": "code",
      "metadata": {},
      "source": [
        "#| echo: false\n",
        "using Printf\n",
        "\n",
        "@printf(\"A energia é: %.2e Joules.\", E)"
      ],
      "id": "a1753680",
      "execution_count": null,
      "outputs": []
    },
    {
      "cell_type": "markdown",
      "metadata": {},
      "source": [
        "Este foi um exemplos do suporte a figuras, tabelas, equações e código em Julia (@lst-2).\n",
        "\n",
        "## Citando referências\n",
        "\n",
        "A seguir um exemplo de citação de referências:\n",
        "\n",
        "A citação de referências é feita como segue: @grote2009springer.\n",
        "\n",
        "### Fisheries and Biodiversity\n",
        "\n",
        "Global freshwater resources include a diverse fish fauna comprising close to 16,000 species (i.e.~47% of all fishes and~25% of all vertebrates), with around 250 new species described each year [@pelayo_villamil2015global; @arthington2016fish; @eschmeyer2017catalog].\n"
      ],
      "id": "64bbdb7b"
    }
  ],
  "metadata": {
    "kernelspec": {
      "name": "julia-1.11",
      "language": "julia",
      "display_name": "Julia 1.11.5",
      "path": "C:\\Users\\jeffe\\AppData\\Roaming\\jupyter\\kernels\\julia-1.11"
    }
  },
  "nbformat": 4,
  "nbformat_minor": 5
}