{
  "cells": [
    {
      "cell_type": "code",
      "metadata": {},
      "source": [
        "#| echo: false\n"
      ],
      "id": "64b9f802",
      "execution_count": null,
      "outputs": []
    }
  ],
  "metadata": {
    "kernelspec": {
      "name": "julia-1.11",
      "language": "julia",
      "display_name": "Julia 1.11.5",
      "path": "C:\\Users\\jeffe\\AppData\\Roaming\\jupyter\\kernels\\julia-1.11"
    }
  },
  "nbformat": 4,
  "nbformat_minor": 5
}